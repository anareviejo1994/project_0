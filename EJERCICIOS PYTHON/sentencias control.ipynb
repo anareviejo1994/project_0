{
 "cells": [
  {
   "cell_type": "markdown",
   "metadata": {},
   "source": [
    "<div style=\"text-align: center;\">\n",
    "  <img src=\"https://github.com/Hack-io-Data/Imagenes/blob/main/01-LogosHackio/logo_celeste@4x.png?raw=true\" alt=\"logo hack(io)\" />\n",
    "</div>"
   ]
  },
  {
   "cell_type": "markdown",
   "metadata": {},
   "source": [
    "#### 1. Escribe un programa que determine si un número es par o impar.\n",
    "\n"
   ]
  },
  {
   "cell_type": "code",
   "execution_count": 9,
   "metadata": {},
   "outputs": [
    {
     "name": "stdout",
     "output_type": "stream",
     "text": [
      "El número es impar.\n"
     ]
    }
   ],
   "source": [
    "\n",
    "numero = int(input(\"Ingresa un número: \"))\n",
    "\n",
    "if numero % 2 == 0:\n",
    "    print(\"El número es par.\")\n",
    "else:\n",
    "    print(\"El número es impar.\")\n"
   ]
  },
  {
   "cell_type": "markdown",
   "metadata": {},
   "source": [
    "#### 2. Genera un programa que nos diga si es de noche, de día o tarde según la hora proporcionada por el usuario."
   ]
  },
  {
   "cell_type": "code",
   "execution_count": 10,
   "metadata": {},
   "outputs": [
    {
     "name": "stdout",
     "output_type": "stream",
     "text": [
      "Es de noche.\n"
     ]
    }
   ],
   "source": [
    "\n",
    "hora = int(input(\"Ingresa la hora actual (0-23): \"))\n",
    "\n",
    "\n",
    "if 0 <= hora < 6 or 21 <= hora <= 23:\n",
    "    print(\"Es de noche.\")\n",
    "elif 6 <= hora < 12:\n",
    "    print(\"Es de día (mañana).\")\n",
    "elif 12 <= hora < 21:\n",
    "    print(\"Es tarde.\")\n",
    "else:\n",
    "    print(\"La hora ingresada no es válida.\")\n"
   ]
  },
  {
   "cell_type": "markdown",
   "metadata": {},
   "source": [
    "#### 3. Dado un nombre imprime un saludo personalizado."
   ]
  },
  {
   "cell_type": "code",
   "execution_count": 11,
   "metadata": {},
   "outputs": [
    {
     "name": "stdout",
     "output_type": "stream",
     "text": [
      "¡Hola, ana! ¡Qué gusto verte!\n"
     ]
    }
   ],
   "source": [
    "\n",
    "nombre = input(\"Ingresa tu nombre: \")\n",
    "print(f\"¡Hola, {nombre}! ¡Qué gusto verte!\")\n"
   ]
  },
  {
   "cell_type": "markdown",
   "metadata": {},
   "source": [
    "#### 4. Escribe un programa que determine qué calificación en texto tiene un alumno en base a su calificación numérica. Las reglas de calificación son: \n",
    "\n",
    "- 0 - 69 insuficiente\n",
    "\n",
    "- 70 - 79 bien\n",
    "\n",
    "- 80 - 89 muy bien\n",
    "\n",
    "- 90 - 100 excelente\n"
   ]
  },
  {
   "cell_type": "code",
   "execution_count": 12,
   "metadata": {},
   "outputs": [
    {
     "name": "stdout",
     "output_type": "stream",
     "text": [
      "Insuficiente\n"
     ]
    }
   ],
   "source": [
    "\n",
    "calificacion = int(input(\"Ingresa la calificación del alumno (0-100): \"))\n",
    "\n",
    "if 0 <= calificacion <= 69:\n",
    "    print(\"Insuficiente\")\n",
    "elif 70 <= calificacion <= 79:\n",
    "    print(\"Bien\")\n",
    "elif 80 <= calificacion <= 89:\n",
    "    print(\"Muy bien\")\n",
    "elif 90 <= calificacion <= 100:\n",
    "    print(\"Excelente\")\n",
    "else:\n",
    "    print(\"Calificación no válida. Debe estar entre 0 y 100.\")\n"
   ]
  },
  {
   "cell_type": "markdown",
   "metadata": {},
   "source": [
    "#### 5. Escribe un programa que imprima el día de la semana, dado un número del 1 al 7.\n"
   ]
  },
  {
   "cell_type": "code",
   "execution_count": 15,
   "metadata": {},
   "outputs": [
    {
     "name": "stdout",
     "output_type": "stream",
     "text": [
      "martes\n"
     ]
    }
   ],
   "source": [
    "numero= int(input('Ingresa un numero del 1 al 7: '))\n",
    "if numero == 1:\n",
    "    print('lunes')\n",
    "elif numero== 2:\n",
    "    print('martes')\n",
    "elif numero== 3:\n",
    "    print('miercoles')\n",
    "elif numero ==4:\n",
    "    print('jueves')\n",
    "elif numero ==5:\n",
    "    print('viernes')\n",
    "elif numero ==6:\n",
    "    print('sabado')\n",
    "elif numero ==7:\n",
    "    print(domingo)\n",
    "else:\n",
    "    print('este numero es invalido')"
   ]
  },
  {
   "cell_type": "markdown",
   "metadata": {},
   "source": [
    "#### 6. Escribe un programa que determine si un número es positivo, negativo o cero."
   ]
  },
  {
   "cell_type": "code",
   "execution_count": 16,
   "metadata": {},
   "outputs": [
    {
     "name": "stdout",
     "output_type": "stream",
     "text": [
      "este numero da 0\n"
     ]
    }
   ],
   "source": [
    "numero = int(input('ingresa un numero del 1 al 3: '))\n",
    "if numero == 1:\n",
    "    print('este numero es positivo')\n",
    "elif numero ==2:\n",
    "    print('este numero es negativo')\n",
    "elif numero ==3:\n",
    "    print('este numero da 0')\n",
    "else:\n",
    "    print('este numero es invalido')\n",
    "    "
   ]
  },
  {
   "cell_type": "markdown",
   "metadata": {},
   "source": [
    "#### 7. Escribe un programa que determine si una persona puede conducir o no. La edad mínima para conducir es 18 años. \n"
   ]
  },
  {
   "cell_type": "code",
   "execution_count": 18,
   "metadata": {},
   "outputs": [
    {
     "name": "stdout",
     "output_type": "stream",
     "text": [
      "No puedes conducir\n"
     ]
    }
   ],
   "source": [
    "conducir = int(input('introduce tu edad: '))\n",
    "if conducir >= 18:\n",
    "    print('Puedes conducir')\n",
    "elif conducir < 18:\n",
    "    print('No puedes conducir')"
   ]
  },
  {
   "cell_type": "markdown",
   "metadata": {},
   "source": [
    "#### 8. Escribe un programa que determine si un estudiante aprobó o suspendió un examen."
   ]
  },
  {
   "cell_type": "code",
   "execution_count": 19,
   "metadata": {},
   "outputs": [
    {
     "name": "stdout",
     "output_type": "stream",
     "text": [
      "El estudiante suspendió el examen.\n"
     ]
    }
   ],
   "source": [
    "\n",
    "calificacion = int(input(\"Ingresa la calificación del estudiante: \"))\n",
    "\n",
    "if calificacion >= 60:\n",
    "    print(\"El estudiante aprobó el examen.\")\n",
    "else:\n",
    "    print(\"El estudiante suspendió el examen.\")\n"
   ]
  },
  {
   "cell_type": "markdown",
   "metadata": {},
   "source": [
    "#### 9. Escribe un programa que determine si un número es múltiplo de 3 y 5.\n"
   ]
  },
  {
   "cell_type": "code",
   "execution_count": 20,
   "metadata": {},
   "outputs": [
    {
     "name": "stdout",
     "output_type": "stream",
     "text": [
      "El número 5 no es múltiplo de 3 y 5.\n"
     ]
    }
   ],
   "source": [
    "\n",
    "numero = int(input(\"Ingresa un número: \"))\n",
    "if numero % 3 == 0 and numero % 5 == 0:\n",
    "    print(f\"El número {numero} es múltiplo de 3 y 5.\")\n",
    "else:\n",
    "    print(f\"El número {numero} no es múltiplo de 3 y 5.\")\n"
   ]
  },
  {
   "cell_type": "markdown",
   "metadata": {},
   "source": [
    "#### 10. Escribe un programa que determine si un número es par o impar.\n"
   ]
  },
  {
   "cell_type": "code",
   "execution_count": 21,
   "metadata": {},
   "outputs": [
    {
     "name": "stdout",
     "output_type": "stream",
     "text": [
      "El número 2 es par.\n"
     ]
    }
   ],
   "source": [
    "numero = int(input(\"Ingresa un número: \"))\n",
    "if numero % 2 == 0:\n",
    "    print(f\"El número {numero} es par.\")\n",
    "else:\n",
    "    print(f\"El número {numero} es impar.\")\n"
   ]
  }
 ],
 "metadata": {
  "kernelspec": {
   "display_name": "Python 3",
   "language": "python",
   "name": "python3"
  },
  "language_info": {
   "codemirror_mode": {
    "name": "ipython",
    "version": 3
   },
   "file_extension": ".py",
   "mimetype": "text/x-python",
   "name": "python",
   "nbconvert_exporter": "python",
   "pygments_lexer": "ipython3",
   "version": "3.12.6"
  }
 },
 "nbformat": 4,
 "nbformat_minor": 2
}
