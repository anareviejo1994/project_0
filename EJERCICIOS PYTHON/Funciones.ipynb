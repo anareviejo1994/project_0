{
 "cells": [
  {
   "cell_type": "markdown",
   "metadata": {},
   "source": [
    "\n",
    "<div style=\"text-align: center;\">\n",
    "  <img src=\"https://github.com/Hack-io-Data/Imagenes/blob/main/01-LogosHackio/logo_celeste@4x.png?raw=true\" alt=\"esquema\" />\n",
    "</div>"
   ]
  },
  {
   "cell_type": "markdown",
   "metadata": {},
   "source": [
    "#### 1. Escribe una función sin parámetros que imprima el siguiente mensaje \"¡Hola! Bienvenido.\"\n"
   ]
  },
  {
   "cell_type": "code",
   "execution_count": 3,
   "metadata": {},
   "outputs": [
    {
     "name": "stdout",
     "output_type": "stream",
     "text": [
      "¡Hola! Bienvenido.\n"
     ]
    }
   ],
   "source": [
    "def saludar():\n",
    "    print(\"¡Hola! Bienvenido.\")\n",
    "saludar()\n"
   ]
  },
  {
   "cell_type": "markdown",
   "metadata": {},
   "source": [
    "#### 2. Escribe una función que reciba dos parámetros y devuelva la suma de ambos.\n"
   ]
  },
  {
   "cell_type": "code",
   "execution_count": 4,
   "metadata": {},
   "outputs": [
    {
     "name": "stdout",
     "output_type": "stream",
     "text": [
      "8\n"
     ]
    }
   ],
   "source": [
    "def sumar(a, b):\n",
    "    return a + b\n",
    "resultado = sumar(5, 3)\n",
    "print(resultado) \n"
   ]
  },
  {
   "cell_type": "markdown",
   "metadata": {},
   "source": [
    "#### 3. Escribe una función que reciba un número y devuelva True si es par, False si no lo es."
   ]
  },
  {
   "cell_type": "code",
   "execution_count": 5,
   "metadata": {},
   "outputs": [
    {
     "name": "stdout",
     "output_type": "stream",
     "text": [
      "True\n",
      "False\n"
     ]
    }
   ],
   "source": [
    "def es_par(numero):\n",
    "    return numero % 2 == 0\n",
    "resultado = es_par(4)\n",
    "print(resultado) \n",
    "resultado = es_par(7)\n",
    "print(resultado)  \n"
   ]
  },
  {
   "cell_type": "markdown",
   "metadata": {},
   "source": [
    "#### 4. Escribe un función que devuelva un saludo personalizado a una persona dado su nombre. \n"
   ]
  },
  {
   "cell_type": "code",
   "execution_count": 8,
   "metadata": {},
   "outputs": [
    {
     "name": "stdout",
     "output_type": "stream",
     "text": [
      "¡Hola, Ana! Bienvenido.\n"
     ]
    }
   ],
   "source": [
    "def saludo_personalizado(nombre):\n",
    "    return f\"¡Hola, {nombre}! Bienvenido.\"\n",
    "mensaje = saludo_personalizado(\"Ana\")\n",
    "print(mensaje)\n"
   ]
  },
  {
   "cell_type": "markdown",
   "metadata": {},
   "source": [
    "#### 5. Escribe una función que sume todos los números que reciba como argumento. La función debe recibir una cantidad variable de argumentos y devolver la suma de todos ellos."
   ]
  },
  {
   "cell_type": "code",
   "execution_count": 9,
   "metadata": {},
   "outputs": [
    {
     "name": "stdout",
     "output_type": "stream",
     "text": [
      "15\n",
      "30\n"
     ]
    }
   ],
   "source": [
    "def sumar_todos(*numeros):\n",
    "    return sum(numeros)\n",
    "resultado = sumar_todos(1, 2, 3, 4, 5)\n",
    "print(resultado) \n",
    "resultado2 = sumar_todos(10, 20)\n",
    "print(resultado2) \n"
   ]
  },
  {
   "cell_type": "markdown",
   "metadata": {},
   "source": [
    "#### 6. Escribe una función que cuente las letras de una palabra y devuelva un diccionario con la cantidad de veces que se repite cada letra \n"
   ]
  },
  {
   "cell_type": "code",
   "execution_count": 10,
   "metadata": {},
   "outputs": [
    {
     "name": "stdout",
     "output_type": "stream",
     "text": [
      "{'b': 1, 'a': 3, 'n': 2}\n"
     ]
    }
   ],
   "source": [
    "def contar_letras(palabra):\n",
    "    diccionario = {}\n",
    "    for letra in palabra:\n",
    "        if letra in diccionario:\n",
    "            diccionario[letra] += 1\n",
    "        else:\n",
    "            diccionario[letra] = 1\n",
    "    return diccionario\n",
    "resultado = contar_letras(\"banana\")\n",
    "print(resultado)\n"
   ]
  },
  {
   "cell_type": "markdown",
   "metadata": {},
   "source": [
    "#### 7. Escribe un función recursiva para calcular el factorial de un número entero no negativo."
   ]
  },
  {
   "cell_type": "code",
   "execution_count": 11,
   "metadata": {},
   "outputs": [
    {
     "name": "stdout",
     "output_type": "stream",
     "text": [
      "120\n"
     ]
    }
   ],
   "source": [
    "def factorial(n):\n",
    "    if n == 0 or n == 1:\n",
    "        return 1\n",
    "    else:\n",
    "        return n * factorial(n - 1)\n",
    "resultado = factorial(5)\n",
    "print(resultado)  \n"
   ]
  },
  {
   "cell_type": "markdown",
   "metadata": {},
   "source": [
    "#### 8. Escribe una función que tome dos parámetros: `figura` (una cadena que puede ser `\"rectangulo\"`, `\"circulo\"` o `\"triangulo\"`) y `datos` (una tupla con los datos necesarios para calcular el área de la figura). "
   ]
  },
  {
   "cell_type": "code",
   "execution_count": 12,
   "metadata": {},
   "outputs": [
    {
     "name": "stdout",
     "output_type": "stream",
     "text": [
      "Área del rectángulo: 15\n",
      "Área del círculo: 50.27\n",
      "Área del triángulo: 12.0\n"
     ]
    }
   ],
   "source": [
    "import math\n",
    "def calcular_area(figura, datos):\n",
    "    if figura == \"rectangulo\":\n",
    "        base, altura = datos\n",
    "        return base * altura\n",
    "    elif figura == \"circulo\":\n",
    "        radio, = datos\n",
    "        return math.pi * radio ** 2\n",
    "    elif figura == \"triangulo\":\n",
    "        base, altura = datos\n",
    "        return (base * altura) / 2\n",
    "    else:\n",
    "        return \"Figura no reconocida\"\n",
    "area_rectangulo = calcular_area(\"rectangulo\", (5, 3))\n",
    "print(f\"Área del rectángulo: {area_rectangulo}\")\n",
    "area_circulo = calcular_area(\"circulo\", (4,))\n",
    "print(f\"Área del círculo: {area_circulo:.2f}\")\n",
    "area_triangulo = calcular_area(\"triangulo\", (6, 4))\n",
    "print(f\"Área del triángulo: {area_triangulo}\")\n"
   ]
  },
  {
   "cell_type": "markdown",
   "metadata": {},
   "source": [
    "#### 9. Escribe una función que tome una lista de números como parámetro y devuelva el número más grande de la lista. No utilices la función `max()` de Python en tu solución."
   ]
  },
  {
   "cell_type": "code",
   "execution_count": 13,
   "metadata": {},
   "outputs": [
    {
     "name": "stdout",
     "output_type": "stream",
     "text": [
      "El número más grande es: 99\n"
     ]
    }
   ],
   "source": [
    "def numero_mas_grande(lista):\n",
    "    if not lista:\n",
    "        return None \n",
    "    mayor = lista[0]\n",
    "    for numero in lista:\n",
    "        if numero > mayor:\n",
    "            mayor = numero\n",
    "    return mayor\n",
    "numeros = [10, 45, 23, 78, 54, 99]\n",
    "resultado = numero_mas_grande(numeros)\n",
    "print(f\"El número más grande es: {resultado}\") \n"
   ]
  },
  {
   "cell_type": "markdown",
   "metadata": {},
   "source": [
    "#### 10. Escribe una función que tome una cadena como parámetro un texto y devuelva `True` si la cadena es un palíndromo (se lee igual de izquierda a derecha que de derecha a izquierda), y `False` en caso contrario. Ignora los espacios y considera mayúsculas y minúsculas de manera insensible.\n"
   ]
  },
  {
   "cell_type": "code",
   "execution_count": 14,
   "metadata": {},
   "outputs": [
    {
     "name": "stdout",
     "output_type": "stream",
     "text": [
      "False\n",
      "False\n"
     ]
    }
   ],
   "source": [
    "def es_palindromo(texto):\n",
    "    texto_limpio = texto.replace(\" \", \"\").lower()\n",
    "    return texto_limpio == texto_limpio[::-1]\n",
    "resultado = es_palindromo(\"A mamá Roma le aviva el amor a mamá\")\n",
    "print(resultado) \n",
    "resultado2 = es_palindromo(\"Hola Mundo\")\n",
    "print(resultado2)\n"
   ]
  },
  {
   "cell_type": "markdown",
   "metadata": {},
   "source": [
    "#### 11. Escribe una función que tome una cadena como parámetro y devuelva dos valores: la cantidad de vocales y la cantidad de consonantes presentes en la cadena. Ignora los espacios y considera mayúsculas y minúsculas de manera insensible.\n"
   ]
  },
  {
   "cell_type": "code",
   "execution_count": 15,
   "metadata": {},
   "outputs": [
    {
     "name": "stdout",
     "output_type": "stream",
     "text": [
      "Vocales: 4, Consonantes: 5\n"
     ]
    }
   ],
   "source": [
    "def contar_vocales_consonantes(texto):\n",
    "    vocales = \"aeiouAEIOU\"\n",
    "    vocales_count = 0\n",
    "    consonantes_count = 0\n",
    "    for char in texto:\n",
    "        if char.isalpha():\n",
    "            if char in vocales:\n",
    "                vocales_count += 1\n",
    "            else:\n",
    "                consonantes_count += 1\n",
    "\n",
    "    return vocales_count, consonantes_count\n",
    "texto = \"Hola Mundo\"\n",
    "vocales, consonantes = contar_vocales_consonantes(texto)\n",
    "print(f\"Vocales: {vocales}, Consonantes: {consonantes}\")\n"
   ]
  }
 ],
 "metadata": {
  "kernelspec": {
   "display_name": "Python 3",
   "language": "python",
   "name": "python3"
  },
  "language_info": {
   "codemirror_mode": {
    "name": "ipython",
    "version": 3
   },
   "file_extension": ".py",
   "mimetype": "text/x-python",
   "name": "python",
   "nbconvert_exporter": "python",
   "pygments_lexer": "ipython3",
   "version": "3.12.6"
  }
 },
 "nbformat": 4,
 "nbformat_minor": 2
}
